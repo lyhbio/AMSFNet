{
 "cells": [
  {
   "cell_type": "code",
   "execution_count": null,
   "id": "1c325f87",
   "metadata": {
    "metadata": {}
   },
   "outputs": [],
   "source": [
    "# %pip install numpy pandas xgboost lightgbm scikit-learn openpyxl"
   ]
  },
  {
   "cell_type": "code",
   "execution_count": null,
   "id": "45696607",
   "metadata": {
    "metadata": {}
   },
   "outputs": [],
   "source": [
    "# %pip install cupy-cuda12x"
   ]
  },
  {
   "cell_type": "code",
   "execution_count": null,
   "id": "20398dff",
   "metadata": {
    "metadata": {}
   },
   "outputs": [],
   "source": [
    "# %pip install torch torchvision torchaudio"
   ]
  },
  {
   "cell_type": "code",
   "execution_count": null,
   "id": "48c47e6a-0d56-4d22-a239-1a958fe436de",
   "metadata": {
    "metadata": {}
   },
   "outputs": [],
   "source": [
    "import numpy as np\n",
    "import pandas as pd\n",
    "\n",
    "from utils.utils import load_dataset\n",
    "from utils.workflow import train_eval, case_study\n",
    "\n",
    "from function.ITRPCA import ITRPCA_F\n",
    "from function.VDA_GKSBMF import A_VDA_GMSBMF\n",
    "from function.DRPADC import WeightImputeLogFactorization, GetProbability\n",
    "from function.MVL import MVL_F\n",
    "from function.BMC import BMC_F\n",
    "from function.MSBMF import MSBMF_F\n",
    "from function.HGIMC import fBMC, fGRB, fHGI\n",
    "from function.AdaMVL import AdaMVL"
   ]
  },
  {
   "cell_type": "markdown",
   "id": "fbec543e-9da1-44bb-aa82-d71fb2b793b3",
   "metadata": {},
   "source": [
    "## HN-DREP Benchmark"
   ]
  },
  {
   "cell_type": "code",
   "execution_count": null,
   "id": "e5f89f0a-7c1e-4b5d-9f59-e6ec96c27902",
   "metadata": {
    "metadata": {}
   },
   "outputs": [],
   "source": [
    "benchmark = pd.read_excel('data/Benchmark/evaluation-results.xlsx')\n",
    "benchmark.head()"
   ]
  },
  {
   "cell_type": "markdown",
   "id": "fbafbde2-95b6-47c4-9413-fa24c0e61cd9",
   "metadata": {},
   "source": [
    "### Note: Explanation of High Average F1 Score in the HINGRL Algorithm\n",
    "\n",
    "The HINGRL algorithm achieved a relatively high average F1 score (0.8789) on the Fdataset dataset. However, it’s important to note that this high score may be influenced by specific strategies in generating negative samples and the model training methods used. Key points are outlined below:\n",
    "\n",
    "1. **Negative Sample Generation Strategy:**\n",
    "   - The algorithm generates an equal number of negative samples by randomly selecting drug-disease pairs that are not labeled as positive in the existing dataset. While this ensures a balanced number of positive and negative samples, the generated negatives may not represent true non-associated pairs—they could be potential positives that are simply undiscovered.\n",
    "   - This simple random sampling method does not account for biological similarities, functional annotations, or other prior knowledge, potentially making the negatives less representative of real-world scenarios. As a result, the model may perform well on the training set but have limited generalization capability in real applications.\n",
    "\n",
    "2. **Balanced Data Leading to Inflated F1 Scores:**\n",
    "   - The training set is perfectly balanced with equal positive and negative samples, which makes it easier for the model to achieve high precision and recall, and thus a higher F1 score.\n",
    "   - In real-world applications, negative samples usually vastly outnumber positive ones. This artificially balanced training data does not reflect real-world distributions, causing the F1 score to be overestimated.\n",
    "\n",
    "3. **Use of Random Forest for Training:**\n",
    "   - The HINGRL algorithm utilizes a Random Forest model, which performs exceptionally well on balanced datasets by leveraging multiple decision trees to reduce overfitting and improve precision and recall.\n",
    "   - While it achieves high F1 scores on balanced data, its performance may degrade on real, imbalanced datasets where the proportion of negative samples is much higher.\n",
    "\n",
    "**Conclusion:**\n",
    "\n",
    "The high average F1 score achieved by the HINGRL algorithm is partly due to the simplistic negative sample generation and training on a balanced dataset. While the results appear promising on the current dataset, its generalization to more complex and imbalanced real-world drug-disease prediction scenarios may be limited."
   ]
  },
  {
   "cell_type": "markdown",
   "id": "e2a93bd1-73cf-489d-ad01-5fa517f40f39",
   "metadata": {},
   "source": [
    "## Data\n",
    "- **Fdataset**\n",
    "- **Cdataset**\n",
    "- **Ydataset**\n",
    "\n",
    "Each of the four algorithms achieved the highest score on the datasets mentioned above."
   ]
  },
  {
   "cell_type": "code",
   "execution_count": null,
   "id": "e5b2db77-16a5-4c17-96c6-854063ff8177",
   "metadata": {
    "metadata": {}
   },
   "outputs": [],
   "source": [
    "dataset_name = 'Fdataset'\n",
    "drug_name, disease_name, Wrd, Wrr, Wrr_six_geps, Wrr_six_kgs, Wrr_six_llms, Wrr_five, Wdd, Wdd_two, Trr, Trr_six_geps, Trr_six_kgs, Trr_six_llms, Trr_five, Tdd, Tdd_two, drug_embeddings, disease_embeddings = load_dataset(dataset_name, embedding_type='llm')"
   ]
  },
  {
   "cell_type": "code",
   "execution_count": null,
   "id": "a2a7d229",
   "metadata": {
    "metadata": {}
   },
   "outputs": [],
   "source": [
    "drug_name[:3], disease_name[:3]"
   ]
  },
  {
   "cell_type": "code",
   "execution_count": null,
   "id": "8cfc22f2",
   "metadata": {
    "metadata": {}
   },
   "outputs": [],
   "source": [
    "# Wrr = [drug_ChemS, drug_AtcS, drug_SideS, drug_DDIS, drug_TargetS, drug_GepS]\n",
    "# Wdd = [disease_PhS, disease_DoS]\n",
    "len(Wrr), len(Wdd), len(Wrr_five), len(Wdd_two)"
   ]
  },
  {
   "cell_type": "code",
   "execution_count": null,
   "id": "c3659eba",
   "metadata": {
    "metadata": {}
   },
   "outputs": [],
   "source": [
    "len(Wrr_six_llms), Trr_six_llms.shape"
   ]
  },
  {
   "cell_type": "code",
   "execution_count": null,
   "id": "393d7ade-461e-44df-b30c-d80cd13d0310",
   "metadata": {
    "metadata": {}
   },
   "outputs": [],
   "source": [
    "Wrd.shape, Wrr[0].shape, Wdd[0].shape, Trr.shape, Tdd.shape, Wrr_five[0].shape, Trr_five.shape"
   ]
  },
  {
   "cell_type": "code",
   "execution_count": null,
   "id": "2c6821de-cd0a-4ec8-9872-b8f2ade13c78",
   "metadata": {
    "metadata": {}
   },
   "outputs": [],
   "source": [
    "drug_embeddings.shape, disease_embeddings.shape"
   ]
  },
  {
   "cell_type": "markdown",
   "id": "4d2fcebd-7d37-481c-b036-d25ac5a2e449",
   "metadata": {},
   "source": [
    "## AdaMVL"
   ]
  },
  {
   "cell_type": "markdown",
   "id": "a84c46e5",
   "metadata": {
    "metadata": {}
   },
   "source": [
    "### Baseline"
   ]
  },
  {
   "cell_type": "code",
   "execution_count": null,
   "id": "e791495b",
   "metadata": {
    "metadata": {}
   },
   "outputs": [],
   "source": [
    "# 5 + 2\n",
    "train_eval(\n",
    "    algorithm_func=AdaMVL,\n",
    "    Wrd=Wrd,\n",
    "    Wrr_list=Wrr_five,\n",
    "    Wdd_list=Wdd_two,\n",
    "    Trr=Trr_five,\n",
    "    Tdd=Tdd_two,\n",
    "    folds=10\n",
    ")"
   ]
  },
  {
   "cell_type": "markdown",
   "id": "2293116d",
   "metadata": {},
   "source": [
    "### 8+3"
   ]
  },
  {
   "cell_type": "code",
   "execution_count": null,
   "id": "a34c00cc",
   "metadata": {
    "metadata": {}
   },
   "outputs": [],
   "source": [
    "# 8 + 3\n",
    "train_eval(\n",
    "    algorithm_func=AdaMVL,\n",
    "    Wrd=Wrd,\n",
    "    Wrr_list=Wrr,\n",
    "    Wdd_list=Wdd,\n",
    "    Trr=Trr,\n",
    "    Tdd=Tdd,\n",
    "    folds=10\n",
    ")"
   ]
  },
  {
   "cell_type": "markdown",
   "id": "e78c501b",
   "metadata": {},
   "source": [
    "### 8+2"
   ]
  },
  {
   "cell_type": "code",
   "execution_count": null,
   "id": "73e13d8a",
   "metadata": {
    "metadata": {}
   },
   "outputs": [],
   "source": [
    "# 8 + 2\n",
    "train_eval(\n",
    "    algorithm_func=AdaMVL,\n",
    "    Wrd=Wrd,\n",
    "    Wrr_list=Wrr,\n",
    "    Wdd_list=Wdd_two,\n",
    "    Trr=Trr,\n",
    "    Tdd=Tdd_two,\n",
    "    folds=10\n",
    ")"
   ]
  },
  {
   "cell_type": "markdown",
   "id": "a6dd0ef8",
   "metadata": {},
   "source": [
    "### 6+2"
   ]
  },
  {
   "cell_type": "code",
   "execution_count": null,
   "id": "9106e7a8",
   "metadata": {
    "metadata": {}
   },
   "outputs": [],
   "source": [
    "# 6(llms) + 2\n",
    "train_eval(\n",
    "    algorithm_func=AdaMVL,\n",
    "    Wrd=Wrd,\n",
    "    Wrr_list=Wrr_six_llms,\n",
    "    Wdd_list=Wdd_two,\n",
    "    Trr=Trr_six_llms,\n",
    "    Tdd=Tdd_two,\n",
    "    folds=10\n",
    ")"
   ]
  },
  {
   "cell_type": "code",
   "execution_count": null,
   "id": "7273fc7f",
   "metadata": {
    "metadata": {}
   },
   "outputs": [],
   "source": [
    "# 6(kgs) + 2\n",
    "train_eval(\n",
    "    algorithm_func=AdaMVL,\n",
    "    Wrd=Wrd,\n",
    "    Wrr_list=Wrr_six_kgs,\n",
    "    Wdd_list=Wdd_two,\n",
    "    Trr=Trr_six_kgs,\n",
    "    Tdd=Tdd_two,\n",
    "    folds=10\n",
    ")"
   ]
  },
  {
   "cell_type": "code",
   "execution_count": null,
   "id": "1e4043e7",
   "metadata": {
    "metadata": {}
   },
   "outputs": [],
   "source": [
    "# 6(geps) + 2\n",
    "train_eval(\n",
    "    algorithm_func=AdaMVL,\n",
    "    Wrd=Wrd,\n",
    "    Wrr_list=Wrr_six_geps,\n",
    "    Wdd_list=Wdd_two,\n",
    "    Trr=Trr_six_geps,\n",
    "    Tdd=Tdd_two,\n",
    "    folds=10\n",
    ")"
   ]
  },
  {
   "cell_type": "markdown",
   "id": "8b25ac3c",
   "metadata": {},
   "source": [
    "### Case Study"
   ]
  },
  {
   "cell_type": "code",
   "execution_count": null,
   "id": "2204beb8",
   "metadata": {
    "metadata": {}
   },
   "outputs": [],
   "source": [
    "case_study(Wrd, Wrr, Wdd, Trr, Tdd, algorithm_func=AdaMVL, drug_names=drug_name, disease_names=disease_name, top=100)"
   ]
  },
  {
   "cell_type": "markdown",
   "id": "a6e538c8-476a-47ef-9a29-2d14b59deec8",
   "metadata": {},
   "source": [
    "## MLMC"
   ]
  },
  {
   "cell_type": "code",
   "execution_count": null,
   "id": "84e3446c-a0f5-4988-9ba8-3582e653337f",
   "metadata": {
    "metadata": {}
   },
   "outputs": [],
   "source": [
    "def MLMC(Wrr_list, Wdd_list, Wrd):\n",
    "    alphaBMC = 10\n",
    "    betaBMC = 10\n",
    "    thresholdBMC = 0.8\n",
    "    maxiterBMC = 300\n",
    "    tol1BMC = 2 * 1e-3\n",
    "    tol2BMC = 1 * 1e-5\n",
    "\n",
    "    Wrr_ML = [w.copy() for w in Wrr_list]\n",
    "    Wdd_ML = [w.copy() for w in Wdd_list]\n",
    "    \n",
    "    for i in range(len(Wrr_ML)):\n",
    "        np.fill_diagonal(Wrr_ML[i], 0)\n",
    "    \n",
    "    for i in range(len(Wdd_ML)):\n",
    "        np.fill_diagonal(Wdd_ML[i], 0)\n",
    "\n",
    "    _, _, F = MVL_F(Wrr_ML, Wdd_ML, Wrd, 0.1, 0.1)\n",
    "\n",
    "    trIndexBMC = (Wrd.T != 0).astype(float)\n",
    "    A_bmc, iter = BMC_F(alphaBMC, betaBMC, Wrd.T, trIndexBMC, tol1BMC, tol2BMC, maxiterBMC, 0, 1)\n",
    "    Wdr0 = A_bmc * (A_bmc > thresholdBMC)\n",
    "    SR_MC, SD_MC, F_MC = MVL_F(Wrr_ML, Wdd_ML, Wdr0.T, 0.1, 0.1)\n",
    "\n",
    "    return np.maximum(F, F_MC)"
   ]
  },
  {
   "cell_type": "code",
   "execution_count": null,
   "id": "f22f108b-d02d-4828-8b12-36584a55bff4",
   "metadata": {
    "metadata": {},
    "scrolled": true
   },
   "outputs": [],
   "source": [
    "# 5 + 2\n",
    "train_eval(Wrd, Wrr_five, Wdd_two, Trr_five, Tdd_two, MLMC)"
   ]
  },
  {
   "cell_type": "code",
   "execution_count": null,
   "id": "b21822a4",
   "metadata": {
    "metadata": {}
   },
   "outputs": [],
   "source": [
    "# 8 + 3\n",
    "train_eval(Wrd, Wrr, Wdd, Trr, Tdd, MLMC)"
   ]
  },
  {
   "cell_type": "code",
   "execution_count": null,
   "id": "83a7794a",
   "metadata": {
    "metadata": {}
   },
   "outputs": [],
   "source": [
    "# 8 + 2\n",
    "train_eval(Wrd, Wrr, Wdd_two, Trr, Tdd_two, MLMC)"
   ]
  },
  {
   "cell_type": "code",
   "execution_count": null,
   "id": "fd921c5b",
   "metadata": {
    "metadata": {}
   },
   "outputs": [],
   "source": [
    "# 6(llms) + 2\n",
    "train_eval(Wrd, Wrr_six_llms, Wdd_two, Trr_six_llms, Tdd_two, MLMC)"
   ]
  },
  {
   "cell_type": "code",
   "execution_count": null,
   "id": "6256ab61",
   "metadata": {
    "metadata": {}
   },
   "outputs": [],
   "source": [
    "# 6(kgs) + 2\n",
    "train_eval(Wrd, Wrr_six_kgs, Wdd_two, Trr_six_kgs, Tdd_two, MLMC)"
   ]
  },
  {
   "cell_type": "code",
   "execution_count": null,
   "id": "9e9c3a08",
   "metadata": {
    "metadata": {}
   },
   "outputs": [],
   "source": [
    "# 6(geps) + 2\n",
    "train_eval(Wrd, Wrr_six_geps, Wdd_two, Trr_six_geps, Tdd_two, MLMC)"
   ]
  },
  {
   "cell_type": "markdown",
   "id": "7991a2dd",
   "metadata": {},
   "source": [
    "## MSBMF"
   ]
  },
  {
   "cell_type": "code",
   "execution_count": null,
   "id": "f6751708",
   "metadata": {
    "metadata": {}
   },
   "outputs": [],
   "source": [
    "def MSBMF(Wrr_list, Wdd_list, Wrd):\n",
    "    lambda1 = 0.1\n",
    "    lambda2 = 0.01\n",
    "    lambda3 = lambda2\n",
    "    k = int(min(Wrd.shape) * 0.7)\n",
    "    maxiter = 300\n",
    "    tol1 = 2 * 1e-3\n",
    "    tol2 = 1 * 1e-4\n",
    "\n",
    "    # Wrr = [Wrr1, Wrr2, Wrr3, Wrr4, Wrr5];\n",
    "    Wrr = np.hstack(Wrr_list)\n",
    "    # Wdd = [Wdd1, Wdd2];\n",
    "    Wdd = np.hstack(Wdd_list)\n",
    "\n",
    "    U, V, iter = MSBMF_F(Wrd.T, Wdd, Wrr, lambda1, lambda2, lambda3, k, tol1, tol2, maxiter);\n",
    "    M_recovery = U @ V.T\n",
    "\n",
    "    return M_recovery.T"
   ]
  },
  {
   "cell_type": "code",
   "execution_count": null,
   "id": "7355213b",
   "metadata": {
    "metadata": {}
   },
   "outputs": [],
   "source": [
    "# 5 + 2\n",
    "train_eval(Wrd, Wrr_five, Wdd_two, Trr_five, Tdd_two, MSBMF)"
   ]
  },
  {
   "cell_type": "code",
   "execution_count": null,
   "id": "9d796dab",
   "metadata": {
    "metadata": {}
   },
   "outputs": [],
   "source": [
    "# 8 + 3\n",
    "train_eval(Wrd, Wrr, Wdd, Trr, Tdd, MSBMF)"
   ]
  },
  {
   "cell_type": "code",
   "execution_count": null,
   "id": "f1339c7e",
   "metadata": {
    "metadata": {}
   },
   "outputs": [],
   "source": [
    "# 8 + 2\n",
    "train_eval(Wrd, Wrr, Wdd_two, Trr, Tdd_two, MSBMF)"
   ]
  },
  {
   "cell_type": "code",
   "execution_count": null,
   "id": "3c78310f",
   "metadata": {
    "metadata": {}
   },
   "outputs": [],
   "source": [
    "# 6(llms) + 2\n",
    "train_eval(Wrd, Wrr_six_llms, Wdd_two, Trr_six_llms, Tdd_two, MSBMF)"
   ]
  },
  {
   "cell_type": "code",
   "execution_count": null,
   "id": "ef0a3d09",
   "metadata": {
    "metadata": {}
   },
   "outputs": [],
   "source": [
    "# 6(kgs) + 2\n",
    "train_eval(Wrd, Wrr_six_kgs, Wdd_two, Trr_six_kgs, Tdd_two, MSBMF)"
   ]
  },
  {
   "cell_type": "code",
   "execution_count": null,
   "id": "93af4896",
   "metadata": {
    "metadata": {}
   },
   "outputs": [],
   "source": [
    "# 6(geps) + 2\n",
    "train_eval(Wrd, Wrr_six_geps, Wdd_two, Trr_six_geps, Tdd_two, MSBMF)"
   ]
  },
  {
   "cell_type": "markdown",
   "id": "2f0a9325-45f4-4d35-b42e-da81c4404431",
   "metadata": {},
   "source": [
    "## ITRPCA"
   ]
  },
  {
   "cell_type": "code",
   "execution_count": null,
   "id": "51aea5c9-fc69-4503-b32a-9403c2010b93",
   "metadata": {
    "metadata": {}
   },
   "outputs": [],
   "source": [
    "def ITRPCA(Wrd, Trr, Tdd):\n",
    "    p = 0.9\n",
    "    K = 30\n",
    "    rat1 = 0.1\n",
    "    rat2 = 0.2\n",
    "\n",
    "    F_ITRPCA = ITRPCA_F(Trr, Tdd, Wrd.T, p, K, rat1, rat2).T\n",
    "\n",
    "    return F_ITRPCA"
   ]
  },
  {
   "cell_type": "code",
   "execution_count": null,
   "id": "9d228221",
   "metadata": {
    "metadata": {}
   },
   "outputs": [],
   "source": [
    "# 5 + 2\n",
    "train_eval(Wrd, Wrr_five, Wdd_two, Trr_five, Tdd_two, ITRPCA)"
   ]
  },
  {
   "cell_type": "code",
   "execution_count": null,
   "id": "78b857fa",
   "metadata": {
    "metadata": {}
   },
   "outputs": [],
   "source": [
    "# 8 + 3\n",
    "train_eval(Wrd, Wrr, Wdd, Trr, Tdd, ITRPCA)"
   ]
  },
  {
   "cell_type": "code",
   "execution_count": null,
   "id": "96bde569",
   "metadata": {
    "metadata": {}
   },
   "outputs": [],
   "source": [
    "# 8 + 2\n",
    "train_eval(Wrd, Wrr, Wdd_two, Trr, Tdd_two, ITRPCA)"
   ]
  },
  {
   "cell_type": "code",
   "execution_count": null,
   "id": "a62c087e",
   "metadata": {
    "metadata": {}
   },
   "outputs": [],
   "source": [
    "# 6(llms) + 2\n",
    "train_eval(Wrd, Wrr_six_llms, Wdd_two, Trr_six_llms, Tdd_two, ITRPCA)"
   ]
  },
  {
   "cell_type": "code",
   "execution_count": null,
   "id": "f32309d0",
   "metadata": {
    "metadata": {}
   },
   "outputs": [],
   "source": [
    "# 6(kgs) + 2\n",
    "train_eval(Wrd, Wrr_six_kgs, Wdd_two, Trr_six_kgs, Tdd_two, ITRPCA)"
   ]
  },
  {
   "cell_type": "code",
   "execution_count": null,
   "id": "392bc959",
   "metadata": {
    "metadata": {}
   },
   "outputs": [],
   "source": [
    "# 6(geps) + 2\n",
    "train_eval(Wrd, Wrr_six_geps, Wdd_two, Trr_six_geps, Tdd_two, ITRPCA)"
   ]
  },
  {
   "cell_type": "markdown",
   "id": "916f2014",
   "metadata": {},
   "source": [
    "## HGIMC"
   ]
  },
  {
   "cell_type": "code",
   "execution_count": null,
   "id": "cd65e866",
   "metadata": {
    "metadata": {}
   },
   "outputs": [],
   "source": [
    "def HGIMC(Wrr_list, Wdd_list, Wrd):\n",
    "    A_DR = Wrd.T\n",
    "\n",
    "    # # Base\n",
    "    # R = Wrr_list[0]\n",
    "    # D = Wdd_list[1]\n",
    "\n",
    "    # Average\n",
    "    R = np.mean(Wrr_list, axis=0)\n",
    "    D = np.mean(Wdd_list, axis=0)\n",
    "\n",
    "    alpha = 10\n",
    "    beta = 10\n",
    "    gamma = 0.1\n",
    "    threshold = 0.1\n",
    "    maxiter = 300\n",
    "    tol1 = 2 * 1e-3\n",
    "    tol2 = 1 * 1e-5\n",
    "\n",
    "    trIndex = (A_DR != 0).astype(float)\n",
    "    A_bmc, iter = fBMC(alpha, beta, A_DR, trIndex, tol1, tol2, maxiter, 0, 1)\n",
    "    A_DR0 = A_bmc * (A_bmc > threshold)\n",
    "\n",
    "    A_RR = fGRB(R, 0.5)\n",
    "    A_DD = fGRB(D, 0.5)\n",
    "\n",
    "    A_recovery = fHGI(gamma, A_DD, A_RR, A_DR0)\n",
    "\n",
    "    return A_recovery.T\n"
   ]
  },
  {
   "cell_type": "code",
   "execution_count": null,
   "id": "0f7e9055",
   "metadata": {
    "metadata": {}
   },
   "outputs": [],
   "source": [
    "# 5 + 2\n",
    "train_eval(Wrd, Wrr_five, Wdd_two, Trr_five, Tdd_two, HGIMC)"
   ]
  },
  {
   "cell_type": "code",
   "execution_count": null,
   "id": "46b4a9fa",
   "metadata": {
    "metadata": {}
   },
   "outputs": [],
   "source": [
    "# 8 + 3\n",
    "train_eval(Wrd, Wrr, Wdd, Trr, Tdd, HGIMC)"
   ]
  },
  {
   "cell_type": "code",
   "execution_count": null,
   "id": "aa6ad125",
   "metadata": {
    "metadata": {}
   },
   "outputs": [],
   "source": [
    "# 8 + 2\n",
    "train_eval(Wrd, Wrr, Wdd_two, Trr, Tdd_two, HGIMC)"
   ]
  },
  {
   "cell_type": "code",
   "execution_count": null,
   "id": "bf2cd1e6",
   "metadata": {
    "metadata": {}
   },
   "outputs": [],
   "source": [
    "# 6(llms) + 2\n",
    "train_eval(Wrd, Wrr_six_llms, Wdd_two, Trr_six_llms, Tdd_two, HGIMC)"
   ]
  },
  {
   "cell_type": "code",
   "execution_count": null,
   "id": "86ef28ae",
   "metadata": {
    "metadata": {}
   },
   "outputs": [],
   "source": [
    "# 6(kgs) + 2\n",
    "train_eval(Wrd, Wrr_six_kgs, Wdd_two, Trr_six_kgs, Tdd_two, HGIMC)"
   ]
  },
  {
   "cell_type": "code",
   "execution_count": null,
   "id": "e600c8a5",
   "metadata": {
    "metadata": {}
   },
   "outputs": [],
   "source": [
    "# 6(geps) + 2\n",
    "train_eval(Wrd, Wrr_six_geps, Wdd_two, Trr_six_geps, Tdd_two, HGIMC)"
   ]
  },
  {
   "cell_type": "markdown",
   "id": "d28ded0a",
   "metadata": {},
   "source": [
    "## DRPADC"
   ]
  },
  {
   "cell_type": "code",
   "execution_count": null,
   "id": "fbd88801",
   "metadata": {
    "metadata": {}
   },
   "outputs": [],
   "source": [
    "def DRPADC(Wrd, Wrr_list, Wdd_list):\n",
    "    rank = 150\n",
    "    rnseed = 0\n",
    "    lR = 0.1\n",
    "    lM = 1.0\n",
    "    lN = 0.1\n",
    "    num_iter = 550\n",
    "    learn_rate = 0.09\n",
    "\n",
    "    W = np.maximum(1, Wrd)\n",
    "\n",
    "    # # Paper Setting\n",
    "    # Wdd = Wdd_list[1]  # semantic sim\n",
    "    # Wrr = Wrr_list[0]  # chemical sim\n",
    "    \n",
    "    # Benchmark\n",
    "    Wdd = np.mean(Wdd_list, axis=0)\n",
    "    Wrr = np.mean(Wrr_list, axis=0)\n",
    "\n",
    "    F, G = WeightImputeLogFactorization(Wrd, Wrr, Wdd, W, rank, lR, lM, lN, num_iter, learn_rate, rnseed)\n",
    "    \n",
    "    PROB = GetProbability(np.dot(F, G.T))\n",
    "    \n",
    "    return PROB"
   ]
  },
  {
   "cell_type": "code",
   "execution_count": null,
   "id": "796b88f3",
   "metadata": {
    "metadata": {}
   },
   "outputs": [],
   "source": [
    "# 5 + 2\n",
    "train_eval(Wrd, Wrr_five, Wdd_two, Trr_five, Tdd_two, DRPADC)"
   ]
  },
  {
   "cell_type": "code",
   "execution_count": null,
   "id": "86580692",
   "metadata": {
    "metadata": {}
   },
   "outputs": [],
   "source": [
    "# 8 + 3\n",
    "train_eval(Wrd, Wrr, Wdd, Trr, Tdd, DRPADC)"
   ]
  },
  {
   "cell_type": "code",
   "execution_count": null,
   "id": "c5871fa9",
   "metadata": {
    "metadata": {}
   },
   "outputs": [],
   "source": [
    "# 8 + 2\n",
    "train_eval(Wrd, Wrr, Wdd_two, Trr, Tdd_two, DRPADC)"
   ]
  },
  {
   "cell_type": "code",
   "execution_count": null,
   "id": "77416783",
   "metadata": {
    "metadata": {}
   },
   "outputs": [],
   "source": [
    "# 6(llms) + 2\n",
    "train_eval(Wrd, Wrr_six_llms, Wdd_two, Trr_six_llms, Tdd_two, DRPADC)"
   ]
  },
  {
   "cell_type": "code",
   "execution_count": null,
   "id": "9f76cfed",
   "metadata": {
    "metadata": {}
   },
   "outputs": [],
   "source": [
    "# 6(kgs) + 2\n",
    "train_eval(Wrd, Wrr_six_kgs, Wdd_two, Trr_six_kgs, Tdd_two, DRPADC)"
   ]
  },
  {
   "cell_type": "code",
   "execution_count": null,
   "id": "279cb37b",
   "metadata": {
    "metadata": {}
   },
   "outputs": [],
   "source": [
    "# 6(geps) + 2\n",
    "train_eval(Wrd, Wrr_six_geps, Wdd_two, Trr_six_geps, Tdd_two, DRPADC)"
   ]
  },
  {
   "cell_type": "markdown",
   "id": "bd88b91b-8a49-4d29-9129-616526e02ec7",
   "metadata": {},
   "source": [
    "## VDA-GKSBMF"
   ]
  },
  {
   "cell_type": "code",
   "execution_count": null,
   "id": "b2eacd15",
   "metadata": {
    "metadata": {}
   },
   "outputs": [],
   "source": [
    "def VDA_GKSBMF(Wrd, Wrr_list, Wdd_list):\n",
    "    gm = 0.5\n",
    "    w = 0.3\n",
    "    lambda1 = 1\n",
    "    lambda2 = lambda1\n",
    "    lambda3 = lambda2\n",
    "    tol1 = 2 * 1e-30\n",
    "    tol2 = 2 * 1e-40\n",
    "    maxiter = 400\n",
    "\n",
    "    k = int(min(Wrd.shape) * 0.7)\n",
    "\n",
    "    # # Paper Setting\n",
    "    # Wdd = Wdd_list[1]\n",
    "    # Wrr = Wrr_list[0]\n",
    "\n",
    "    # Benchmark\n",
    "    Wdd = np.mean(Wdd_list, axis=0)\n",
    "    Wrr = np.mean(Wrr_list, axis=0)\n",
    "\n",
    "    M_recovery = A_VDA_GMSBMF(Wrd.T, Wdd, Wrr, gm, w, lambda1, lambda2, lambda3, k, tol1, tol2, maxiter)\n",
    "    \n",
    "    return M_recovery.T"
   ]
  },
  {
   "cell_type": "code",
   "execution_count": null,
   "id": "9eb26186",
   "metadata": {
    "metadata": {}
   },
   "outputs": [],
   "source": [
    "# 5 + 2\n",
    "train_eval(Wrd, Wrr_five, Wdd_two, Trr_five, Tdd_two, VDA_GKSBMF)"
   ]
  },
  {
   "cell_type": "code",
   "execution_count": null,
   "id": "59dd8893",
   "metadata": {
    "metadata": {}
   },
   "outputs": [],
   "source": [
    "# 8 + 3\n",
    "train_eval(Wrd, Wrr, Wdd, Trr, Tdd, VDA_GKSBMF)"
   ]
  },
  {
   "cell_type": "code",
   "execution_count": null,
   "id": "3936dda1",
   "metadata": {
    "metadata": {}
   },
   "outputs": [],
   "source": [
    "# 8 + 2\n",
    "train_eval(Wrd, Wrr, Wdd_two, Trr, Tdd_two, VDA_GKSBMF)"
   ]
  },
  {
   "cell_type": "code",
   "execution_count": null,
   "id": "970439d4",
   "metadata": {
    "metadata": {}
   },
   "outputs": [],
   "source": [
    "# 6(llms) + 2\n",
    "train_eval(Wrd, Wrr_six_llms, Wdd_two, Trr_six_llms, Tdd_two, VDA_GKSBMF)"
   ]
  },
  {
   "cell_type": "code",
   "execution_count": null,
   "id": "b3b479c3",
   "metadata": {
    "metadata": {}
   },
   "outputs": [],
   "source": [
    "# 6(kgs) + 2\n",
    "train_eval(Wrd, Wrr_six_kgs, Wdd_two, Trr_six_kgs, Tdd_two, VDA_GKSBMF)"
   ]
  },
  {
   "cell_type": "code",
   "execution_count": null,
   "id": "27ff7f07",
   "metadata": {
    "metadata": {}
   },
   "outputs": [],
   "source": [
    "# 6(geps) + 2\n",
    "train_eval(Wrd, Wrr_six_geps, Wdd_two, Trr_six_geps, Tdd_two, VDA_GKSBMF)"
   ]
  },
  {
   "cell_type": "markdown",
   "id": "6537a467",
   "metadata": {},
   "source": [
    "## Machine Learning"
   ]
  },
  {
   "cell_type": "code",
   "execution_count": null,
   "id": "7dfe1e99",
   "metadata": {
    "metadata": {}
   },
   "outputs": [],
   "source": [
    "train_eval(\n",
    "    drug_embeddings=drug_embeddings,\n",
    "    disease_embeddings=disease_embeddings,\n",
    "    Wrd=Wrd,\n",
    "    Wrr_list=Wrr,\n",
    "    Wdd_list=Wdd,\n",
    "    Trr=Trr,\n",
    "    Tdd=Tdd,\n",
    "    ml_benchmark=True\n",
    ")"
   ]
  },
  {
   "cell_type": "code",
   "execution_count": null,
   "id": "038bf799",
   "metadata": {},
   "outputs": [],
   "source": []
  }
 ],
 "metadata": {
  "kernelspec": {
   "display_name": "Python 3 (ipykernel)",
   "language": "python",
   "name": "python3"
  },
  "language_info": {
   "codemirror_mode": {
    "name": "ipython",
    "version": 3
   },
   "file_extension": ".py",
   "mimetype": "text/x-python",
   "name": "python",
   "nbconvert_exporter": "python",
   "pygments_lexer": "ipython3",
   "version": "3.12.6"
  }
 },
 "nbformat": 4,
 "nbformat_minor": 5
}
