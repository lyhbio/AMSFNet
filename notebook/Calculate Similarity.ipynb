{
 "cells": [
  {
   "cell_type": "code",
   "execution_count": null,
   "metadata": {
    "metadata": {}
   },
   "outputs": [],
   "source": [
    "import numpy as np\n",
    "import pandas as pd\n",
    "\n",
    "from scipy.stats import spearmanr\n",
    "from sklearn.metrics.pairwise import cosine_similarity\n",
    "from sklearn.preprocessing import MinMaxScaler\n",
    "\n",
    "from utils.utils import add_key_value_to_mat"
   ]
  },
  {
   "cell_type": "code",
   "execution_count": null,
   "metadata": {
    "metadata": {}
   },
   "outputs": [],
   "source": [
    "dataset_name = 'Ydataset'\n",
    "disease_emb_file = f'data/{dataset_name}/{dataset_name}_disease_embedding.csv'\n",
    "drug_emb_file = f'data/{dataset_name}/{dataset_name}_drug_embedding.csv'"
   ]
  },
  {
   "cell_type": "code",
   "execution_count": null,
   "metadata": {
    "metadata": {}
   },
   "outputs": [],
   "source": [
    "disease_emb_df = pd.read_csv(disease_emb_file)\n",
    "disease_emb_df.head()"
   ]
  },
  {
   "cell_type": "code",
   "execution_count": null,
   "metadata": {
    "metadata": {}
   },
   "outputs": [],
   "source": [
    "drug_emb_df = pd.read_csv(drug_emb_file)\n",
    "drug_emb_df.head()"
   ]
  },
  {
   "cell_type": "code",
   "execution_count": null,
   "metadata": {
    "metadata": {}
   },
   "outputs": [],
   "source": [
    "disease_emb_df.shape, drug_emb_df.shape"
   ]
  },
  {
   "cell_type": "code",
   "execution_count": null,
   "metadata": {
    "metadata": {}
   },
   "outputs": [],
   "source": [
    "def compute_cosine_similarity_exclude_zeros(emb_df):\n",
    "    \"\"\"\n",
    "    Compute the cosine similarity of an embedding matrix, excluding all-zero rows, and handle diagonal values.\n",
    "\n",
    "    Parameters:\n",
    "    - emb_df: pd.DataFrame, an entity embedding matrix (n, d), where each row represents a d-dimensional embedding vector of an entity\n",
    "\n",
    "    Returns:\n",
    "    - full_similarity_matrix: np.ndarray, a similarity matrix of shape (n, n) with values in the range [0, 1]\n",
    "    \"\"\"\n",
    "    # 1. Extract the embedding matrix\n",
    "    emb_matrix = emb_df.values  # Convert DataFrame to NumPy array\n",
    "\n",
    "    # 2. Check for all-zero rows\n",
    "    zero_rows = np.all(emb_matrix == 0, axis=1)  # Shape: (n,)\n",
    "\n",
    "    # 3. Filter out all-zero rows, using only non-zero rows for similarity calculation\n",
    "    non_zero_matrix = emb_matrix[~zero_rows]\n",
    "\n",
    "    # 4. If the number of non-zero vectors is less than 2, return a diagonal matrix with ones\n",
    "    if non_zero_matrix.shape[0] < 2:\n",
    "        full_similarity_matrix = np.zeros((emb_matrix.shape[0], emb_matrix.shape[0]))\n",
    "        np.fill_diagonal(full_similarity_matrix, 1)\n",
    "        return full_similarity_matrix\n",
    "\n",
    "    # 5. Compute the cosine similarity matrix for the filtered non-zero rows\n",
    "    similarity = cosine_similarity(non_zero_matrix)  # Compute similarity only between non-zero rows\n",
    "\n",
    "    # 6. Scale cosine similarity values to the range [0, 1]\n",
    "    similarity_adjusted = MinMaxScaler().fit_transform(similarity)\n",
    "\n",
    "    # 7. Construct the full similarity matrix\n",
    "    full_similarity_matrix = np.zeros((emb_matrix.shape[0], emb_matrix.shape[0]))  # Initialize an all-zero matrix\n",
    "\n",
    "    # 8. Use boolean indexing to fill the similarity values back into the full matrix for non-zero rows and columns\n",
    "    non_zero_indices = np.where(~zero_rows)[0]  # Extract indices of non-zero rows\n",
    "    for i, row_idx in enumerate(non_zero_indices):\n",
    "        for j, col_idx in enumerate(non_zero_indices):\n",
    "            full_similarity_matrix[row_idx, col_idx] = similarity_adjusted[i, j]\n",
    "\n",
    "    # 9. Set diagonal values to 1 for all rows (including zero rows)\n",
    "    np.fill_diagonal(full_similarity_matrix, 1)\n",
    "\n",
    "    return full_similarity_matrix"
   ]
  },
  {
   "cell_type": "code",
   "execution_count": null,
   "metadata": {
    "metadata": {}
   },
   "outputs": [],
   "source": [
    "def compute_spearman_similarity_exclude_zeros(emb_df):\n",
    "    \"\"\"\n",
    "    Compute the Spearman correlation of an embedding matrix, excluding all-zero rows, and handle diagonal values.\n",
    "\n",
    "    Parameters:\n",
    "    - emb_df: pd.DataFrame, an entity embedding matrix (n, d), where each row represents a d-dimensional embedding vector of an entity\n",
    "\n",
    "    Returns:\n",
    "    - full_similarity_matrix: np.ndarray, a similarity matrix of shape (n, n) with values in the range [-1, 1]\n",
    "    \"\"\"\n",
    "    # 1. Extract the embedding matrix\n",
    "    emb_matrix = emb_df.values  # Convert DataFrame to NumPy array\n",
    "\n",
    "    # 2. Check for all-zero rows\n",
    "    zero_rows = np.all(emb_matrix == 0, axis=1)  # Shape: (n,)\n",
    "\n",
    "    # 3. Filter out all-zero rows, using only non-zero rows for similarity calculation\n",
    "    non_zero_matrix = emb_matrix[~zero_rows]\n",
    "\n",
    "    # 4. If the number of non-zero vectors is less than 2, return a diagonal matrix with ones\n",
    "    if non_zero_matrix.shape[0] < 2:\n",
    "        full_similarity_matrix = np.zeros((emb_matrix.shape[0], emb_matrix.shape[0]))\n",
    "        np.fill_diagonal(full_similarity_matrix, 1)\n",
    "        return full_similarity_matrix\n",
    "\n",
    "    # 5. Compute the Spearman correlation matrix for the filtered non-zero rows\n",
    "    similarity = np.zeros((non_zero_matrix.shape[0], non_zero_matrix.shape[0]))\n",
    "    for i in range(non_zero_matrix.shape[0]):\n",
    "        for j in range(non_zero_matrix.shape[0]):\n",
    "            if i != j:\n",
    "                corr, _ = spearmanr(non_zero_matrix[i], non_zero_matrix[j])\n",
    "                similarity[i, j] = corr\n",
    "\n",
    "    # 6. Construct the full similarity matrix\n",
    "    full_similarity_matrix = np.zeros((emb_matrix.shape[0], emb_matrix.shape[0]))  # Initialize an all-zero matrix\n",
    "\n",
    "    # 7. Use boolean indexing to fill the similarity values back into the full matrix for non-zero rows and columns\n",
    "    non_zero_indices = np.where(~zero_rows)[0]  # Extract indices of non-zero rows\n",
    "    for i, row_idx in enumerate(non_zero_indices):\n",
    "        for j, col_idx in enumerate(non_zero_indices):\n",
    "            full_similarity_matrix[row_idx, col_idx] = similarity[i, j]\n",
    "\n",
    "    # 8. Set diagonal values to 1 for all rows (including zero rows)\n",
    "    np.fill_diagonal(full_similarity_matrix, 1)\n",
    "\n",
    "    return full_similarity_matrix"
   ]
  },
  {
   "cell_type": "code",
   "execution_count": null,
   "metadata": {
    "metadata": {}
   },
   "outputs": [],
   "source": [
    "drug_sim = compute_cosine_similarity_exclude_zeros(drug_emb_df)\n",
    "disease_sim = compute_cosine_similarity_exclude_zeros(disease_emb_df)"
   ]
  },
  {
   "cell_type": "code",
   "execution_count": null,
   "metadata": {
    "metadata": {}
   },
   "outputs": [],
   "source": [
    "drug_sim.shape, disease_sim.shape"
   ]
  },
  {
   "cell_type": "code",
   "execution_count": null,
   "metadata": {
    "metadata": {}
   },
   "outputs": [],
   "source": [
    "pd.DataFrame(drug_sim).head(10)"
   ]
  },
  {
   "cell_type": "code",
   "execution_count": null,
   "metadata": {
    "metadata": {}
   },
   "outputs": [],
   "source": [
    "pd.DataFrame(disease_sim).head()"
   ]
  },
  {
   "cell_type": "code",
   "execution_count": null,
   "metadata": {
    "metadata": {}
   },
   "outputs": [],
   "source": [
    "add_key_value_to_mat(f'data/{dataset_name}/{dataset_name}.mat', f'data/{dataset_name}/{dataset_name}.mat', 'drug_LlmS', drug_sim)\n",
    "add_key_value_to_mat(f'data/{dataset_name}/{dataset_name}.mat', f'data/{dataset_name}/{dataset_name}.mat', 'disease_LlmS', disease_sim)"
   ]
  },
  {
   "cell_type": "code",
   "execution_count": null,
   "metadata": {},
   "outputs": [],
   "source": []
  }
 ],
 "metadata": {
  "kernelspec": {
   "display_name": "repurpose_gpu",
   "language": "python",
   "name": "python3"
  },
  "language_info": {
   "codemirror_mode": {
    "name": "ipython",
    "version": 3
   },
   "file_extension": ".py",
   "mimetype": "text/x-python",
   "name": "python",
   "nbconvert_exporter": "python",
   "pygments_lexer": "ipython3",
   "version": "3.12.6"
  }
 },
 "nbformat": 4,
 "nbformat_minor": 2
}
